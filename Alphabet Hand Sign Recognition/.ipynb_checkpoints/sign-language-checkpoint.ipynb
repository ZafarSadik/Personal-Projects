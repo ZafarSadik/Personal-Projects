{
 "cells": [
  {
   "cell_type": "code",
   "execution_count": 14,
   "metadata": {
    "_cell_guid": "b1076dfc-b9ad-4769-8c92-a6c4dae69d19",
    "_uuid": "8f2839f25d086af736a60e9eeb907d3b93b6e0e5",
    "execution": {
     "iopub.execute_input": "2020-11-25T00:42:00.702062Z",
     "iopub.status.busy": "2020-11-25T00:42:00.701417Z",
     "iopub.status.idle": "2020-11-25T00:42:11.617457Z",
     "shell.execute_reply": "2020-11-25T00:42:11.618396Z"
    },
    "papermill": {
     "duration": 10.937064,
     "end_time": "2020-11-25T00:42:11.618668",
     "exception": false,
     "start_time": "2020-11-25T00:42:00.681604",
     "status": "completed"
    },
    "tags": []
   },
   "outputs": [],
   "source": [
    "# This Python 3 environment comes with many helpful analytics libraries installed\n",
    "# It is defined by the kaggle/python Docker image: https://github.com/kaggle/docker-python\n",
    "# For example, here's several helpful packages to load\n",
    "\n",
    "import numpy as np # linear algebra\n",
    "import pandas as pd # data processing, CSV file I/O (e.g. pd.read_csv)\n",
    "\n",
    "# Input data files are available in the read-only \"../input/\" directory\n",
    "# For example, running this (by clicking run or pressing Shift+Enter) will list all files under the input directory\n",
    "\n",
    "import os\n",
    "for dirname, _, filenames in os.walk('\\Desktop\\Alphabet Hand Sign Recognition\\Sign Language for Alphabets'):\n",
    "    for filename in filenames:\n",
    "        print(os.path.join(dirname, filename))\n",
    "\n",
    "# You can write up to 20GB to the current directory (/kaggle/working/) that gets preserved as output when you create a version using \"Save & Run All\" \n",
    "# You can also write temporary files to /kaggle/temp/, but they won't be saved outside of the current session"
   ]
  },
  {
   "cell_type": "code",
   "execution_count": 2,
   "metadata": {
    "_cell_guid": "79c7e3d0-c299-4dcb-8224-4455121ee9b0",
    "_uuid": "d629ff2d2480ee46fbb7e2d37f6b5fab8052498a",
    "execution": {
     "iopub.execute_input": "2020-11-25T00:42:12.083949Z",
     "iopub.status.busy": "2020-11-25T00:42:12.082853Z",
     "iopub.status.idle": "2020-11-25T00:42:18.267025Z",
     "shell.execute_reply": "2020-11-25T00:42:18.262320Z"
    },
    "papermill": {
     "duration": 6.383751,
     "end_time": "2020-11-25T00:42:18.267213",
     "exception": false,
     "start_time": "2020-11-25T00:42:11.883462",
     "status": "completed"
    },
    "tags": []
   },
   "outputs": [],
   "source": [
    "#import libraries \n",
    "import tensorflow as tf\n",
    "import keras\n",
    "from keras.layers import Dense,Dropout,Activation,Add,MaxPooling2D,Conv2D,Flatten,BatchNormalization,MaxPool2D\n",
    "from keras.models import Sequential\n",
    "from keras import layers\n",
    "from keras.preprocessing.image import ImageDataGenerator\n",
    "import numpy as np\n",
    "import matplotlib.pyplot as plt\n",
    "from keras.preprocessing import image"
   ]
  },
  {
   "cell_type": "code",
   "execution_count": 3,
   "metadata": {
    "execution": {
     "iopub.execute_input": "2020-11-25T00:42:18.957465Z",
     "iopub.status.busy": "2020-11-25T00:42:18.956398Z",
     "iopub.status.idle": "2020-11-25T00:42:25.191958Z",
     "shell.execute_reply": "2020-11-25T00:42:25.191123Z"
    },
    "papermill": {
     "duration": 6.628985,
     "end_time": "2020-11-25T00:42:25.192153",
     "exception": false,
     "start_time": "2020-11-25T00:42:18.563168",
     "status": "completed"
    },
    "tags": []
   },
   "outputs": [
    {
     "name": "stdout",
     "output_type": "stream",
     "text": [
      "Found 40500 files belonging to 27 classes.\n",
      "Using 32400 files for training.\n"
     ]
    }
   ],
   "source": [
    "#import train data\n",
    "train_data = tf.keras.preprocessing.image_dataset_from_directory(\n",
    "    \"../input/sign-language-for-alphabets/Sign Language for Alphabets\", labels='inferred', label_mode='int', class_names=None,\n",
    "    color_mode='rgb', batch_size=32, image_size=(50, 50), shuffle=True, seed=123,\n",
    "    validation_split=0.2, subset=\"training\"\n",
    ")"
   ]
  },
  {
   "cell_type": "code",
   "execution_count": 4,
   "metadata": {
    "execution": {
     "iopub.execute_input": "2020-11-25T00:42:25.590645Z",
     "iopub.status.busy": "2020-11-25T00:42:25.589428Z",
     "iopub.status.idle": "2020-11-25T00:42:28.174962Z",
     "shell.execute_reply": "2020-11-25T00:42:28.175853Z"
    },
    "papermill": {
     "duration": 2.786188,
     "end_time": "2020-11-25T00:42:28.176084",
     "exception": false,
     "start_time": "2020-11-25T00:42:25.389896",
     "status": "completed"
    },
    "tags": []
   },
   "outputs": [
    {
     "name": "stdout",
     "output_type": "stream",
     "text": [
      "Found 40500 files belonging to 27 classes.\n",
      "Using 8100 files for validation.\n"
     ]
    }
   ],
   "source": [
    "#import train data\n",
    "val_data = tf.keras.preprocessing.image_dataset_from_directory(\n",
    "    \"../input/sign-language-for-alphabets/Sign Language for Alphabets\", labels='inferred', label_mode='int', class_names=None,\n",
    "    color_mode='rgb', batch_size=32, image_size=(50, 50), shuffle=True, seed=123,\n",
    "    validation_split=0.2, subset=\"validation\"\n",
    ")"
   ]
  },
  {
   "cell_type": "code",
   "execution_count": 5,
   "metadata": {
    "execution": {
     "iopub.execute_input": "2020-11-25T00:42:28.524884Z",
     "iopub.status.busy": "2020-11-25T00:42:28.521494Z",
     "iopub.status.idle": "2020-11-25T00:42:28.526009Z",
     "shell.execute_reply": "2020-11-25T00:42:28.526997Z"
    },
    "papermill": {
     "duration": 0.187316,
     "end_time": "2020-11-25T00:42:28.527226",
     "exception": false,
     "start_time": "2020-11-25T00:42:28.339910",
     "status": "completed"
    },
    "tags": []
   },
   "outputs": [],
   "source": [
    "#class names \n",
    "dict_labels = {0:\"a\",1:\"b\",2:\"c\",3:\"d\",4:\"e\",5:\"f\",6:\"g\",7:\"h\",8:\"i\",9:\"j\",10:\"k\",11:\"l\",12:\"m\",13:\"n\",14:\"o\",15:\"p\",16:\"q\",17:\"r\",18:\"s\",19:\"t\",20:\"u\",21:\"unkowen\",22:\"v\",23:\"w\",24:\"x\",25:\"y\",26:\"z\"}"
   ]
  },
  {
   "cell_type": "code",
   "execution_count": 6,
   "metadata": {
    "execution": {
     "iopub.execute_input": "2020-11-25T00:42:28.936779Z",
     "iopub.status.busy": "2020-11-25T00:42:28.935749Z",
     "iopub.status.idle": "2020-11-25T00:42:29.514323Z",
     "shell.execute_reply": "2020-11-25T00:42:29.510664Z"
    },
    "papermill": {
     "duration": 0.798622,
     "end_time": "2020-11-25T00:42:29.514520",
     "exception": false,
     "start_time": "2020-11-25T00:42:28.715898",
     "status": "completed"
    },
    "tags": []
   },
   "outputs": [
    {
     "data": {
      "image/png": "[encoded data removed]",
      "text/plain": [
       "<Figure size 432x288 with 1 Axes>"
      ]
     },
     "metadata": {
      "needs_background": "light"
     },
     "output_type": "display_data"
    }
   ],
   "source": [
    "#visulaize data\n",
    "fig, ax = plt.subplots()\n",
    "ax.bar(\"data\",40500 ,color= 'b', label='Data')\n",
    "ax.bar(\"train\",32400 ,color= 'r', label='Train')\n",
    "ax.bar(\"val\",8100 ,color='g', label='Val')\n",
    "leg = ax.legend();\n"
   ]
  },
  {
   "cell_type": "code",
   "execution_count": 7,
   "metadata": {
    "execution": {
     "iopub.execute_input": "2020-11-25T00:42:30.173553Z",
     "iopub.status.busy": "2020-11-25T00:42:30.172644Z",
     "iopub.status.idle": "2020-11-25T00:42:30.217950Z",
     "shell.execute_reply": "2020-11-25T00:42:30.218753Z"
    },
    "papermill": {
     "duration": 0.340427,
     "end_time": "2020-11-25T00:42:30.218943",
     "exception": false,
     "start_time": "2020-11-25T00:42:29.878516",
     "status": "completed"
    },
    "tags": []
   },
   "outputs": [],
   "source": [
    "#build cnn \n",
    "model = Sequential()\n",
    "model.add(BatchNormalization())\n",
    "model.add(Conv2D(64, kernel_size=(3,3), activation = 'relu', input_shape=(50,50 ,3) ))\n",
    "model.add(MaxPooling2D(pool_size = (2, 2)))\n",
    "\n",
    "model.add(Conv2D(64, kernel_size = (3, 3), activation = 'relu'))\n",
    "model.add(MaxPooling2D(pool_size = (2, 2)))\n",
    "\n",
    "model.add(Conv2D(64, kernel_size = (3, 3), activation = 'relu'))\n",
    "model.add(MaxPooling2D(pool_size = (2, 2)))\n",
    "\n",
    "model.add(Flatten())\n",
    "model.add(Dense(128, activation = 'relu'))\n",
    "model.add(Dropout(0.20))\n",
    "model.add(Dense(27, activation = 'softmax'))\n"
   ]
  },
  {
   "cell_type": "code",
   "execution_count": 8,
   "metadata": {
    "execution": {
     "iopub.execute_input": "2020-11-25T00:42:30.571986Z",
     "iopub.status.busy": "2020-11-25T00:42:30.570899Z",
     "iopub.status.idle": "2020-11-25T00:42:30.582012Z",
     "shell.execute_reply": "2020-11-25T00:42:30.583397Z"
    },
    "papermill": {
     "duration": 0.200789,
     "end_time": "2020-11-25T00:42:30.583604",
     "exception": false,
     "start_time": "2020-11-25T00:42:30.382815",
     "status": "completed"
    },
    "tags": []
   },
   "outputs": [],
   "source": [
    "model.compile(optimizer='Adam', metrics=['accuracy'], loss='sparse_categorical_crossentropy')"
   ]
  },
  {
   "cell_type": "code",
   "execution_count": 9,
   "metadata": {
    "execution": {
     "iopub.execute_input": "2020-11-25T00:42:30.958076Z",
     "iopub.status.busy": "2020-11-25T00:42:30.956852Z",
     "iopub.status.idle": "2020-11-25T00:42:30.959951Z",
     "shell.execute_reply": "2020-11-25T00:42:30.959071Z"
    },
    "papermill": {
     "duration": 0.196776,
     "end_time": "2020-11-25T00:42:30.960149",
     "exception": false,
     "start_time": "2020-11-25T00:42:30.763373",
     "status": "completed"
    },
    "tags": []
   },
   "outputs": [],
   "source": [
    "call = tf.keras.callbacks.EarlyStopping(\n",
    "    monitor=\"val_loss\",\n",
    "    patience=5,\n",
    "    restore_best_weights=True)"
   ]
  },
  {
   "cell_type": "code",
   "execution_count": 10,
   "metadata": {
    "execution": {
     "iopub.execute_input": "2020-11-25T00:42:31.329403Z",
     "iopub.status.busy": "2020-11-25T00:42:31.328429Z",
     "iopub.status.idle": "2020-11-25T00:47:27.754186Z",
     "shell.execute_reply": "2020-11-25T00:47:27.753628Z"
    },
    "papermill": {
     "duration": 296.617475,
     "end_time": "2020-11-25T00:47:27.754309",
     "exception": false,
     "start_time": "2020-11-25T00:42:31.136834",
     "status": "completed"
    },
    "tags": []
   },
   "outputs": [
    {
     "name": "stdout",
     "output_type": "stream",
     "text": [
      "Epoch 1/25\n",
      "1013/1013 [==============================] - 78s 77ms/step - loss: 0.8454 - accuracy: 0.7561 - val_loss: 0.2973 - val_accuracy: 0.9175\n",
      "Epoch 2/25\n",
      "1013/1013 [==============================] - 24s 23ms/step - loss: 0.2675 - accuracy: 0.9183 - val_loss: 0.1993 - val_accuracy: 0.9391\n",
      "Epoch 3/25\n",
      "1013/1013 [==============================] - 23s 23ms/step - loss: 0.1713 - accuracy: 0.9487 - val_loss: 0.1403 - val_accuracy: 0.9573\n",
      "Epoch 4/25\n",
      "1013/1013 [==============================] - 23s 23ms/step - loss: 0.1214 - accuracy: 0.9617 - val_loss: 0.1342 - val_accuracy: 0.9620\n",
      "Epoch 5/25\n",
      "1013/1013 [==============================] - 24s 23ms/step - loss: 0.0943 - accuracy: 0.9703 - val_loss: 0.1252 - val_accuracy: 0.9672\n",
      "Epoch 6/25\n",
      "1013/1013 [==============================] - 23s 23ms/step - loss: 0.0826 - accuracy: 0.9738 - val_loss: 0.1416 - val_accuracy: 0.9617\n",
      "Epoch 7/25\n",
      "1013/1013 [==============================] - 24s 24ms/step - loss: 0.0687 - accuracy: 0.9773 - val_loss: 0.1487 - val_accuracy: 0.9631\n",
      "Epoch 8/25\n",
      "1013/1013 [==============================] - 24s 24ms/step - loss: 0.0631 - accuracy: 0.9801 - val_loss: 0.1514 - val_accuracy: 0.9660\n",
      "Epoch 9/25\n",
      "1013/1013 [==============================] - 23s 23ms/step - loss: 0.0553 - accuracy: 0.9823 - val_loss: 0.1314 - val_accuracy: 0.9717\n",
      "Epoch 10/25\n",
      "1013/1013 [==============================] - 24s 24ms/step - loss: 0.0418 - accuracy: 0.9869 - val_loss: 0.1433 - val_accuracy: 0.9712\n"
     ]
    }
   ],
   "source": [
    "fit= model.fit(train_data,validation_data=val_data,epochs=25,callbacks=[call])"
   ]
  },
  {
   "cell_type": "code",
   "execution_count": 11,
   "metadata": {
    "execution": {
     "iopub.execute_input": "2020-11-25T00:47:30.751760Z",
     "iopub.status.busy": "2020-11-25T00:47:30.750847Z",
     "iopub.status.idle": "2020-11-25T00:47:35.088867Z",
     "shell.execute_reply": "2020-11-25T00:47:35.088347Z"
    },
    "papermill": {
     "duration": 5.843032,
     "end_time": "2020-11-25T00:47:35.088975",
     "exception": false,
     "start_time": "2020-11-25T00:47:29.245943",
     "status": "completed"
    },
    "tags": []
   },
   "outputs": [
    {
     "name": "stdout",
     "output_type": "stream",
     "text": [
      "254/254 [==============================] - 4s 16ms/step - loss: 0.1252 - accuracy: 0.9672\n"
     ]
    },
    {
     "data": {
      "text/plain": [
       "[0.125229150056839, 0.9671605229377747]"
      ]
     },
     "execution_count": 11,
     "metadata": {},
     "output_type": "execute_result"
    }
   ],
   "source": [
    "model.evaluate(val_data)\n"
   ]
  },
  {
   "cell_type": "code",
   "execution_count": 12,
   "metadata": {
    "execution": {
     "iopub.execute_input": "2020-11-25T00:47:38.383603Z",
     "iopub.status.busy": "2020-11-25T00:47:38.382615Z",
     "iopub.status.idle": "2020-11-25T00:47:39.684767Z",
     "shell.execute_reply": "2020-11-25T00:47:39.685606Z"
    },
    "papermill": {
     "duration": 3.086575,
     "end_time": "2020-11-25T00:47:39.685815",
     "exception": false,
     "start_time": "2020-11-25T00:47:36.599240",
     "status": "completed"
    },
    "tags": []
   },
   "outputs": [
    {
     "data": {
      "image/png": "[encoded data removed]",
      "text/plain": [
       "<Figure size 432x288 with 1 Axes>"
      ]
     },
     "metadata": {},
     "output_type": "display_data"
    },
    {
     "data": {
      "image/png": "[encoded data removed]",
      "text/plain": [
       "<Figure size 432x288 with 1 Axes>"
      ]
     },
     "metadata": {},
     "output_type": "display_data"
    }
   ],
   "source": [
    "#plotting training values\n",
    "import matplotlib.pyplot as plt\n",
    "import seaborn as sns\n",
    "sns.set()\n",
    "\n",
    "acc = fit.history['accuracy']\n",
    "val_acc = fit.history['val_accuracy']\n",
    "loss = fit.history['loss']\n",
    "val_loss = fit.history['val_loss']\n",
    "epochs = range(1, len(loss) + 1)\n",
    "\n",
    "#accuracy plot\n",
    "plt.plot(epochs, acc, color='green', label='Training Accuracy')\n",
    "plt.plot(epochs, val_acc, color='blue', label='Validation Accuracy')\n",
    "plt.title('Training and Validation Accuracy')\n",
    "plt.ylabel('Accuracy')\n",
    "plt.xlabel('Epoch')\n",
    "plt.legend()\n",
    "\n",
    "plt.figure()\n",
    "#loss plot\n",
    "plt.plot(epochs, loss, color='pink', label='Training Loss')\n",
    "plt.plot(epochs, val_loss, color='red', label='Validation Loss')\n",
    "plt.title('Training and Validation Loss')\n",
    "plt.xlabel('Epoch')\n",
    "plt.ylabel('Loss')\n",
    "plt.legend()\n",
    "\n",
    "plt.show()\n"
   ]
  },
  {
   "cell_type": "code",
   "execution_count": 13,
   "metadata": {
    "execution": {
     "iopub.execute_input": "2020-11-25T00:47:43.060212Z",
     "iopub.status.busy": "2020-11-25T00:47:43.059289Z",
     "iopub.status.idle": "2020-11-25T00:47:43.101205Z",
     "shell.execute_reply": "2020-11-25T00:47:43.100634Z"
    },
    "papermill": {
     "duration": 1.571723,
     "end_time": "2020-11-25T00:47:43.101318",
     "exception": false,
     "start_time": "2020-11-25T00:47:41.529595",
     "status": "completed"
    },
    "tags": []
   },
   "outputs": [],
   "source": [
    "# serialize weights to HDF5\n",
    "model.save(\"waste_model.h5\")"
   ]
  },
  {
   "cell_type": "code",
   "execution_count": 14,
   "metadata": {
    "execution": {
     "iopub.execute_input": "2020-11-25T00:47:46.164392Z",
     "iopub.status.busy": "2020-11-25T00:47:46.163752Z",
     "iopub.status.idle": "2020-11-25T00:47:46.592907Z",
     "shell.execute_reply": "2020-11-25T00:47:46.592243Z"
    },
    "papermill": {
     "duration": 1.950536,
     "end_time": "2020-11-25T00:47:46.593021",
     "exception": false,
     "start_time": "2020-11-25T00:47:44.642485",
     "status": "completed"
    },
    "tags": []
   },
   "outputs": [
    {
     "name": "stdout",
     "output_type": "stream",
     "text": [
      "[1]\n",
      "b\n"
     ]
    },
    {
     "data": {
      "text/plain": [
       "<matplotlib.image.AxesImage at 0x7f9aa31b2790>"
      ]
     },
     "execution_count": 14,
     "metadata": {},
     "output_type": "execute_result"
    },
    {
     "data": {
      "image/png": "[encoded data removed]",
      "text/plain": [
       "<Figure size 432x288 with 1 Axes>"
      ]
     },
     "metadata": {},
     "output_type": "display_data"
    }
   ],
   "source": [
    "#test 1\n",
    "image_path = \"../input/sign-language-for-alphabets/Sign Language for Alphabets/b/b_10.jpg\"\n",
    "new_img = image.load_img(image_path, target_size=(50, 50))\n",
    "img = image.img_to_array(new_img)\n",
    "img = np.expand_dims(img, axis=0)\n",
    "prediction = model.predict(img)\n",
    "prediction = np.argmax(prediction,axis=1)\n",
    "print(prediction)\n",
    "print(dict_labels[prediction[0]])\n",
    "plt.imshow(new_img)"
   ]
  },
  {
   "cell_type": "code",
   "execution_count": 15,
   "metadata": {
    "execution": {
     "iopub.execute_input": "2020-11-25T00:47:49.862348Z",
     "iopub.status.busy": "2020-11-25T00:47:49.861351Z",
     "iopub.status.idle": "2020-11-25T00:47:50.142247Z",
     "shell.execute_reply": "2020-11-25T00:47:50.142718Z"
    },
    "papermill": {
     "duration": 1.915078,
     "end_time": "2020-11-25T00:47:50.142858",
     "exception": false,
     "start_time": "2020-11-25T00:47:48.227780",
     "status": "completed"
    },
    "tags": []
   },
   "outputs": [
    {
     "name": "stdout",
     "output_type": "stream",
     "text": [
      "[17]\n",
      "r\n"
     ]
    },
    {
     "data": {
      "text/plain": [
       "<matplotlib.image.AxesImage at 0x7f9aa30d6f50>"
      ]
     },
     "execution_count": 15,
     "metadata": {},
     "output_type": "execute_result"
    },
    {
     "data": {
      "image/png": "[encoded data removed]",
      "text/plain": [
       "<Figure size 432x288 with 1 Axes>"
      ]
     },
     "metadata": {},
     "output_type": "display_data"
    }
   ],
   "source": [
    "#test 2\n",
    "image_path = \"../input/sign-language-for-alphabets/Sign Language for Alphabets/r/r_100.jpg\"\n",
    "new_img = image.load_img(image_path, target_size=(50, 50))\n",
    "img = image.img_to_array(new_img)\n",
    "img = np.expand_dims(img, axis=0)\n",
    "prediction = model.predict(img)\n",
    "prediction = np.argmax(prediction,axis=1)\n",
    "print(prediction)\n",
    "print(dict_labels[prediction[0]])\n",
    "plt.imshow(new_img)"
   ]
  },
  {
   "cell_type": "code",
   "execution_count": 16,
   "metadata": {
    "execution": {
     "iopub.execute_input": "2020-11-25T00:47:53.193581Z",
     "iopub.status.busy": "2020-11-25T00:47:53.192640Z",
     "iopub.status.idle": "2020-11-25T00:47:53.472360Z",
     "shell.execute_reply": "2020-11-25T00:47:53.472809Z"
    },
    "papermill": {
     "duration": 1.799045,
     "end_time": "2020-11-25T00:47:53.472956",
     "exception": false,
     "start_time": "2020-11-25T00:47:51.673911",
     "status": "completed"
    },
    "tags": []
   },
   "outputs": [
    {
     "name": "stdout",
     "output_type": "stream",
     "text": [
      "[20]\n",
      "u\n"
     ]
    },
    {
     "data": {
      "text/plain": [
       "<matplotlib.image.AxesImage at 0x7f9aa30b6d90>"
      ]
     },
     "execution_count": 16,
     "metadata": {},
     "output_type": "execute_result"
    },
    {
     "data": {
      "image/png": "[encoded data removed]",
      "text/plain": [
       "<Figure size 432x288 with 1 Axes>"
      ]
     },
     "metadata": {},
     "output_type": "display_data"
    }
   ],
   "source": [
    "#test 3\n",
    "image_path = \"../input/sign-language-for-alphabets/Sign Language for Alphabets/u/u_1000.jpg\"\n",
    "new_img = image.load_img(image_path, target_size=(50, 50))\n",
    "img = image.img_to_array(new_img)\n",
    "img = np.expand_dims(img, axis=0)\n",
    "prediction = model.predict(img)\n",
    "prediction = np.argmax(prediction,axis=1)\n",
    "print(prediction)\n",
    "print(dict_labels[prediction[0]])\n",
    "plt.imshow(new_img)"
   ]
  },
  {
   "cell_type": "code",
   "execution_count": 17,
   "metadata": {
    "execution": {
     "iopub.execute_input": "2020-11-25T00:47:56.561903Z",
     "iopub.status.busy": "2020-11-25T00:47:56.561056Z",
     "iopub.status.idle": "2020-11-25T00:47:56.845983Z",
     "shell.execute_reply": "2020-11-25T00:47:56.845027Z"
    },
    "papermill": {
     "duration": 1.804723,
     "end_time": "2020-11-25T00:47:56.846125",
     "exception": false,
     "start_time": "2020-11-25T00:47:55.041402",
     "status": "completed"
    },
    "tags": []
   },
   "outputs": [
    {
     "name": "stdout",
     "output_type": "stream",
     "text": [
      "[26]\n",
      "z\n"
     ]
    },
    {
     "data": {
      "text/plain": [
       "<matplotlib.image.AxesImage at 0x7f9aa3018bd0>"
      ]
     },
     "execution_count": 17,
     "metadata": {},
     "output_type": "execute_result"
    },
    {
     "data": {
      "image/png": "[encoded data removed]",
      "text/plain": [
       "<Figure size 432x288 with 1 Axes>"
      ]
     },
     "metadata": {},
     "output_type": "display_data"
    }
   ],
   "source": [
    "#test 4\n",
    "image_path = \"../input/sign-language-for-alphabets/Sign Language for Alphabets/z/z_1004.jpg\"\n",
    "new_img = image.load_img(image_path, target_size=(50, 50))\n",
    "img = image.img_to_array(new_img)\n",
    "img = np.expand_dims(img, axis=0)\n",
    "prediction = model.predict(img)\n",
    "prediction = np.argmax(prediction,axis=1)\n",
    "print(prediction)\n",
    "print(dict_labels[prediction[0]])\n",
    "plt.imshow(new_img)\n",
    "\n"
   ]
  },
  {
   "cell_type": "code",
   "execution_count": 18,
   "metadata": {
    "execution": {
     "iopub.execute_input": "2020-11-25T00:48:00.233341Z",
     "iopub.status.busy": "2020-11-25T00:48:00.231480Z",
     "iopub.status.idle": "2020-11-25T00:48:00.529251Z",
     "shell.execute_reply": "2020-11-25T00:48:00.528680Z"
    },
    "papermill": {
     "duration": 2.136485,
     "end_time": "2020-11-25T00:48:00.529376",
     "exception": false,
     "start_time": "2020-11-25T00:47:58.392891",
     "status": "completed"
    },
    "tags": []
   },
   "outputs": [
    {
     "name": "stdout",
     "output_type": "stream",
     "text": [
      "[4]\n",
      "e\n"
     ]
    },
    {
     "data": {
      "text/plain": [
       "<matplotlib.image.AxesImage at 0x7f9aa2ffc9d0>"
      ]
     },
     "execution_count": 18,
     "metadata": {},
     "output_type": "execute_result"
    },
    {
     "data": {
      "image/png": "[encoded data removed]",
      "text/plain": [
       "<Figure size 432x288 with 1 Axes>"
      ]
     },
     "metadata": {},
     "output_type": "display_data"
    }
   ],
   "source": [
    "#test 5\n",
    "image_path = \"../input/sign-language-for-alphabets/Sign Language for Alphabets/e/e_10.jpg\"\n",
    "new_img = image.load_img(image_path, target_size=(50, 50))\n",
    "img = image.img_to_array(new_img)\n",
    "img = np.expand_dims(img, axis=0)\n",
    "prediction = model.predict(img)\n",
    "prediction = np.argmax(prediction,axis=1)\n",
    "print(prediction)\n",
    "print(dict_labels[prediction[0]])\n",
    "plt.imshow(new_img)\n"
   ]
  },
  {
   "cell_type": "code",
   "execution_count": 19,
   "metadata": {
    "execution": {
     "iopub.execute_input": "2020-11-25T00:48:03.659463Z",
     "iopub.status.busy": "2020-11-25T00:48:03.658574Z",
     "iopub.status.idle": "2020-11-25T00:48:03.964957Z",
     "shell.execute_reply": "2020-11-25T00:48:03.963171Z"
    },
    "papermill": {
     "duration": 1.850463,
     "end_time": "2020-11-25T00:48:03.965099",
     "exception": false,
     "start_time": "2020-11-25T00:48:02.114636",
     "status": "completed"
    },
    "tags": []
   },
   "outputs": [
    {
     "name": "stdout",
     "output_type": "stream",
     "text": [
      "[14]\n",
      "o\n"
     ]
    },
    {
     "data": {
      "text/plain": [
       "<matplotlib.image.AxesImage at 0x7f9aa2f5e7d0>"
      ]
     },
     "execution_count": 19,
     "metadata": {},
     "output_type": "execute_result"
    },
    {
     "data": {
      "image/png": "[encoded data removed]",
      "text/plain": [
       "<Figure size 432x288 with 1 Axes>"
      ]
     },
     "metadata": {},
     "output_type": "display_data"
    }
   ],
   "source": [
    "#test 6\n",
    "image_path = \"../input/sign-language-for-alphabets/Sign Language for Alphabets/o/o_10.jpg\"\n",
    "new_img = image.load_img(image_path, target_size=(50, 50))\n",
    "img = image.img_to_array(new_img)\n",
    "img = np.expand_dims(img, axis=0)\n",
    "prediction = model.predict(img)\n",
    "prediction = np.argmax(prediction,axis=1)\n",
    "print(prediction)\n",
    "print(dict_labels[prediction[0]])\n",
    "plt.imshow(new_img)"
   ]
  }
 ],
 "metadata": {
  "kernelspec": {
   "display_name": "Python 3 (ipykernel)",
   "language": "python",
   "name": "python3"
  },
  "language_info": {
   "codemirror_mode": {
    "name": "ipython",
    "version": 3
   },
   "file_extension": ".py",
   "mimetype": "text/x-python",
   "name": "python",
   "nbconvert_exporter": "python",
   "pygments_lexer": "ipython3",
   "version": "3.9.12"
  },
  "papermill": {
   "duration": 370.367883,
   "end_time": "2020-11-25T00:48:06.937419",
   "environment_variables": {},
   "exception": null,
   "input_path": "__notebook__.ipynb",
   "output_path": "__notebook__.ipynb",
   "parameters": {},
   "start_time": "2020-11-25T00:41:56.569536",
   "version": "2.1.0"
  }
 },
 "nbformat": 4,
 "nbformat_minor": 4
}
